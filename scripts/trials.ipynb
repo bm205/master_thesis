{
 "cells": [
  {
   "cell_type": "code",
   "execution_count": 1,
   "metadata": {},
   "outputs": [],
   "source": [
    "import pandas as pd\n",
    "import numpy as np\n",
    "import master_thesis.config as config\n",
    "from master_thesis.preprocessing import Preprocesser\n",
    "from master_thesis.model_wrapper import ModelWrapper\n",
    "from master_thesis.similarity_levels import SimilarityLevels\n",
    "from master_thesis.simple_icd_10_cm import SimpleIcd10Cm\n",
    "from master_thesis.simple_icd_10_pcs import SimpleIcd10Pcs\n",
    "from master_thesis.drg_to_icd_cm import Drg_to_icd_cm\n",
    "from master_thesis.hcpcs import Hcpcs"
   ]
  },
  {
   "cell_type": "code",
   "execution_count": null,
   "metadata": {},
   "outputs": [],
   "source": [
    "if __name__ == \"__main__\":\n",
    "    if config.NUMRER_OF_TAXONOMIES == 4:\n",
    "        print(\"TAX_1 = cm, TAX_2 = pcs, TAX_3 = drg, TAX_4 = hcpcs\")\n",
    "        print(\"Weights: 25%% each\")\n",
    "        Preprocesser.process_4_tax()\n",
    "\n",
    "    elif config.NUMRER_OF_TAXONOMIES == 1:\n",
    "        print('1 Taxonomy')\n",
    "    elif config.NUMRER_OF_TAXONOMIES == 2:\n",
    "        print('2 Taxonomies')\n",
    "        print('weights')\n",
    "        Preprocesser.process_2_tax()\n",
    "\n",
    "    else:\n",
    "        print(\"That is not a proper number. Please insert 1, 2 or 4.\")"
   ]
  },
  {
   "cell_type": "code",
   "execution_count": 25,
   "metadata": {},
   "outputs": [
    {
     "name": "stdout",
     "output_type": "stream",
     "text": [
      "   hadm_id\n",
      "0     4444\n",
      "3     7777\n",
      "5     1111\n",
      "7     5555\n",
      "   hadm_id\n",
      "0     4444\n",
      "3     1111\n",
      "6     5555\n",
      "9     3333\n"
     ]
    },
    {
     "data": {
      "text/html": [
       "<div>\n",
       "<style scoped>\n",
       "    .dataframe tbody tr th:only-of-type {\n",
       "        vertical-align: middle;\n",
       "    }\n",
       "\n",
       "    .dataframe tbody tr th {\n",
       "        vertical-align: top;\n",
       "    }\n",
       "\n",
       "    .dataframe thead th {\n",
       "        text-align: right;\n",
       "    }\n",
       "</style>\n",
       "<table border=\"1\" class=\"dataframe\">\n",
       "  <thead>\n",
       "    <tr style=\"text-align: right;\">\n",
       "      <th></th>\n",
       "      <th>hadm_id</th>\n",
       "      <th>curr_service</th>\n",
       "    </tr>\n",
       "  </thead>\n",
       "  <tbody>\n",
       "    <tr>\n",
       "      <th>0</th>\n",
       "      <td>4444</td>\n",
       "      <td>ORTHO</td>\n",
       "    </tr>\n",
       "    <tr>\n",
       "      <th>1</th>\n",
       "      <td>5555</td>\n",
       "      <td>MED</td>\n",
       "    </tr>\n",
       "    <tr>\n",
       "      <th>2</th>\n",
       "      <td>1111</td>\n",
       "      <td>MED,OMED</td>\n",
       "    </tr>\n",
       "  </tbody>\n",
       "</table>\n",
       "</div>"
      ],
      "text/plain": [
       "   hadm_id curr_service\n",
       "0     4444        ORTHO\n",
       "1     5555          MED\n",
       "2     1111     MED,OMED"
      ]
     },
     "execution_count": 25,
     "metadata": {},
     "output_type": "execute_result"
    }
   ],
   "source": [
    "data_service = pd.read_csv('../data/draft5.csv')\n",
    "data_service = data_service[['hadm_id','curr_service']]\n",
    "data_tax_1 = pd.read_csv('../data/draft2.csv')\n",
    "data_tax_2 = pd.read_csv('../data/draft3.csv')\n",
    "\n",
    "data_tax_1 = data_tax_1[['hadm_id']]\n",
    "data_tax_2 = data_tax_2[['hadm_id']]\n",
    "data_tax_1 = data_tax_1.drop_duplicates()\n",
    "data_tax_2 = data_tax_2.drop_duplicates()\n",
    "join0 = pd.merge(data_tax_1,data_tax_2,on='hadm_id',how='inner')\n",
    "# join0.drop_duplicates()\n",
    "join = pd.merge(data_service,join0,on='hadm_id',how='inner')\n",
    "\n",
    "print(data_tax_1)\n",
    "print(data_tax_2)\n",
    "join"
   ]
  },
  {
   "cell_type": "code",
   "execution_count": null,
   "metadata": {},
   "outputs": [],
   "source": [
    "sim_lvls_1 = SimilarityLevels(SimpleIcd10Pcs)\n",
    "preprocesser_1 = Preprocesser(SimpleIcd10Pcs)\n",
    "\n",
    "train_tax_1_patients_list = [['0TTB4ZZ', '07BC4ZX', '0UT9FZZ'], ['0UT2FZZ']]\n",
    "\n",
    "X_train_1 = ModelWrapper.get_distance_matrix(\n",
    "    train_tax_1_patients_list,\n",
    "    sim_lvls_1.get_ic2,\n",
    "    sim_lvls_1.get_cs4,\n",
    "    sim_lvls_1.get_ss6\n",
    "    )\n",
    "print(X_train_1)"
   ]
  },
  {
   "cell_type": "code",
   "execution_count": 13,
   "metadata": {},
   "outputs": [
    {
     "name": "stdout",
     "output_type": "stream",
     "text": [
      "7\n",
      "no\n",
      "no\n",
      "no\n",
      "no\n",
      "no\n",
      "no\n",
      "no\n",
      "MED\n"
     ]
    }
   ],
   "source": [
    "data_service = pd.read_csv('../data/draft5.csv')\n",
    "\n",
    "last = len(data_service['hadm_id']) - 1\n",
    "print(last)\n",
    "\n",
    "for index,row in data_service.iterrows():\n",
    "    if index == last:\n",
    "        print(data_service['curr_service'][index])\n",
    "    else:\n",
    "        print('no')\n",
    "    # print(index)"
   ]
  }
 ],
 "metadata": {
  "kernelspec": {
   "display_name": ".venv",
   "language": "python",
   "name": "python3"
  },
  "language_info": {
   "codemirror_mode": {
    "name": "ipython",
    "version": 3
   },
   "file_extension": ".py",
   "mimetype": "text/x-python",
   "name": "python",
   "nbconvert_exporter": "python",
   "pygments_lexer": "ipython3",
   "version": "3.10.11"
  }
 },
 "nbformat": 4,
 "nbformat_minor": 2
}

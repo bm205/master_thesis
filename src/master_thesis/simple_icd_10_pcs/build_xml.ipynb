{
 "cells": [
  {
   "cell_type": "code",
   "execution_count": 1,
   "metadata": {},
   "outputs": [],
   "source": [
    "import xml.etree.ElementTree as ET\n",
    "import pandas as pd"
   ]
  },
  {
   "cell_type": "code",
   "execution_count": 2,
   "metadata": {},
   "outputs": [
    {
     "name": "stdout",
     "output_type": "stream",
     "text": [
      "        Column2\n",
      "0      001     \n",
      "1      0016070 \n",
      "2      0016071 \n",
      "3      0016072 \n",
      "4      0016073 \n",
      "...         ...\n",
      "79021  XXE5XM5 \n",
      "79022  XXE5XN6 \n",
      "79023  XXEBXQ6 \n",
      "79024  XY0     \n",
      "79025  XY0VX83 \n",
      "\n",
      "[79026 rows x 1 columns]\n"
     ]
    }
   ],
   "source": [
    "df = pd.read_csv('./data/icd10pcs_order_20211.csv')\n",
    "col2 = df[['Column2']]\n",
    "col2\n",
    "print(col2)\n",
    "# df"
   ]
  },
  {
   "cell_type": "code",
   "execution_count": 65,
   "metadata": {},
   "outputs": [
    {
     "data": {
      "text/plain": [
       "['origin',\n",
       " 'medicine',\n",
       " 'prescription',\n",
       " 'surgery',\n",
       " 'internal_medicine',\n",
       " 'orthopedics']"
      ]
     },
     "execution_count": 65,
     "metadata": {},
     "output_type": "execute_result"
    }
   ],
   "source": [
    "class MedicalTaxonomy:\n",
    "    def __init__(self):\n",
    "        self.taxonomy = {}\n",
    "\n",
    "    def add_node(self, parent_id, code):\n",
    "        if parent_id not in self.taxonomy:\n",
    "            self.taxonomy[parent_id] = []\n",
    "        self.taxonomy[parent_id].append(code)\n",
    "\n",
    "    def is_valid_item(self, code):\n",
    "        for children in self.taxonomy.values():\n",
    "            for child in children:\n",
    "                if child == code:\n",
    "                    return True\n",
    "        return False\n",
    "    \n",
    "    def is_leaf(self, code):\n",
    "        if self.is_valid_item(code) != True:\n",
    "            raise ValueError(\"The code \\\"\"+code+\"\\\" does not exist.\")\n",
    "        if self.get_children(code) == []:\n",
    "            return True\n",
    "        else:\n",
    "            return False\n",
    "        \n",
    "    def get_all_codes(self):\n",
    "        all_codes_list = []\n",
    "        for children in self.taxonomy.values():\n",
    "            for child in children:\n",
    "                all_codes_list.append(child)\n",
    "        return all_codes_list           \n",
    "\n",
    "    def get_children(self, code):\n",
    "        if self.is_valid_item(code) != True:\n",
    "            raise ValueError(\"The code \\\"\"+code+\"\\\" does not exist.\")\n",
    "        return self.taxonomy.get(code, [])\n",
    "    \n",
    "    def get_ancestors(self, code):\n",
    "        ancestors = []\n",
    "        if self.is_valid_item(code) != True:\n",
    "            raise ValueError(\"The code \\\"\"+code+\"\\\" does not exist.\")\n",
    "        while code is not None:\n",
    "            for parent_id, children in self.taxonomy.items():\n",
    "                for child in children:\n",
    "                    if child == code and parent_id != None:\n",
    "                        ancestors.append(parent_id)\n",
    "                        code = parent_id\n",
    "                        break\n",
    "                else:\n",
    "                    continue  # This line ensures we keep searching in other branches.\n",
    "                break  # Exit the inner loop if the node is found.\n",
    "            else:\n",
    "                # If the node has no parent, break the loop\n",
    "                break\n",
    "        return ancestors\n",
    "    \n",
    "    \n",
    "\n",
    "# Usage example:\n",
    "taxonomy = MedicalTaxonomy()\n",
    "taxonomy.add_node(None, \"origin\")\n",
    "taxonomy.add_node(\"origin\", \"medicine\")\n",
    "taxonomy.add_node(\"origin\", \"prescription\")\n",
    "taxonomy.add_node(\"medicine\", \"surgery\")\n",
    "taxonomy.add_node(\"medicine\", \"internal_medicine\")\n",
    "taxonomy.add_node(\"surgery\", \"orthopedics\")\n",
    "\n",
    "# print(taxonomy.get_children(\"origin\"))\n",
    "# print(taxonomy.get_children(\"medicine\"))\n",
    "# print(taxonomy.get_ancestors(\"orthopedics\"))\n",
    "# print(taxonomy.is_valid(\"medicine\"))\n",
    "\n",
    "def is_valid_item(code):\n",
    "    return taxonomy.is_valid_item(code)\n",
    "\n",
    "def is_leaf(code):\n",
    "    return taxonomy.is_leaf(code)\n",
    "\n",
    "def get_all_codes():\n",
    "    return taxonomy.get_all_codes()\n",
    "\n",
    "def get_children(code):\n",
    "    # print(taxonomy.get_children(code))\n",
    "    return taxonomy.get_children(code)\n",
    "\n",
    "def get_ancestors(code):\n",
    "    # print(taxonomy.get_ancestors(code))\n",
    "    return taxonomy.get_ancestors(code)\n",
    "\n",
    "get_children('origin')\n",
    "get_ancestors('origin')\n",
    "is_valid_item('orthopedics')\n",
    "is_leaf('orthopedics')\n",
    "get_all_codes()\n"
   ]
  },
  {
   "cell_type": "code",
   "execution_count": 67,
   "metadata": {},
   "outputs": [
    {
     "name": "stdout",
     "output_type": "stream",
     "text": [
      "['Section 0', 'Section 1', 'Section 2', 'Section 3', 'Section 4', 'Section 5', 'Section 6', 'Section 7', 'Section 8', 'Section 9', 'Section B', 'Section C', 'Section D', 'Section F', 'Section G', 'Section H', 'Section X']\n"
     ]
    },
    {
     "data": {
      "text/plain": [
       "['origin']"
      ]
     },
     "execution_count": 67,
     "metadata": {},
     "output_type": "execute_result"
    }
   ],
   "source": [
    "# levels_1 = set()\n",
    "\n",
    "# for index, row in col2.iterrows():\n",
    "#     section = row['Column2'][0]\n",
    "#     level_1.add(section)\n",
    "# print(level_1)\n",
    "\n",
    "# all = []\n",
    "\n",
    "# for e in level_1:\n",
    "#     all.append([])\n",
    "\n",
    "# print(all)\n",
    "\n",
    "# for idx, e in enumerate(level_1):\n",
    "#     exec(\"list_\" + str(e) + \" = []\")\n",
    "\n",
    "# ============\n",
    "taxonomy = MedicalTaxonomy()\n",
    "taxonomy.add_node(None, \"origin\")\n",
    "\n",
    "sections_1 = set()\n",
    "level_1 = []\n",
    "i=-1\n",
    "\n",
    "for index, row in col2.iterrows():\n",
    "    section = row['Column2'][0]\n",
    "    if section not in sections_1:\n",
    "        sections_1.add(section)\n",
    "        taxonomy.add_node(\"origin\", f\"Section {section}\")\n",
    "        level_1.append([])\n",
    "        i = i + 1\n",
    "        # exec(\"list_\" + str(section) + \" = []\")\n",
    "        # print(section)\n",
    "    level_1[i].append(row['Column2'])\n",
    "\n",
    "# level_1\n",
    "print(taxonomy.get_children(\"origin\"))\n",
    "get_ancestors('Section 2')\n",
    "\n",
    "# ===========\n",
    "\n",
    "# for a in level_1:\n",
    "#     # cat00.append(row['Column2'])\n",
    "#     print(f\"Section {a}\")\n",
    "#     # cat f'{a}' = []\n",
    "#     a.append('yes')\n",
    "#     print(a)\n",
    "#     taxonomy.add_node(\"origin\", f\"Section {a}\")\n",
    "\n",
    "# print(taxonomy.get_children(\"origin\"))\n",
    "    "
   ]
  },
  {
   "cell_type": "code",
   "execution_count": null,
   "metadata": {},
   "outputs": [],
   "source": [
    "level_1"
   ]
  },
  {
   "cell_type": "code",
   "execution_count": 68,
   "metadata": {},
   "outputs": [
    {
     "name": "stdout",
     "output_type": "stream",
     "text": [
      "['Section X2', 'Section XH', 'Section XK', 'Section XN', 'Section XR', 'Section XT', 'Section XV', 'Section XW', 'Section XX', 'Section XY']\n",
      "['Section 2W', 'Section 2Y']\n",
      "['Section B0', 'Section B2', 'Section B3', 'Section B4', 'Section B5', 'Section B7', 'Section B8', 'Section B9', 'Section BB', 'Section BD', 'Section BF', 'Section BG', 'Section BH', 'Section BL', 'Section BN', 'Section BP', 'Section BQ', 'Section BR', 'Section BT', 'Section BU', 'Section BV', 'Section BW', 'Section BY']\n",
      "['Section 30', 'Section 3C', 'Section 3E']\n",
      "['Section F0', 'Section F1']\n",
      "['Section HZ']\n",
      "['Section 7W']\n",
      "['Section 9W']\n",
      "['Section 4A', 'Section 4B']\n",
      "['Section GZ']\n",
      "['Section 6A']\n",
      "['Section C0', 'Section C2', 'Section C5', 'Section C7', 'Section C8', 'Section C9', 'Section CB', 'Section CD', 'Section CF', 'Section CG', 'Section CH', 'Section CP', 'Section CT', 'Section CV', 'Section CW']\n",
      "['Section D0', 'Section D7', 'Section D8', 'Section D9', 'Section DB', 'Section DD', 'Section DF', 'Section DG', 'Section DH', 'Section DM', 'Section DP', 'Section DT', 'Section DU', 'Section DV', 'Section DW']\n",
      "['Section 00', 'Section 01', 'Section 02', 'Section 03', 'Section 04', 'Section 05', 'Section 06', 'Section 07', 'Section 08', 'Section 09', 'Section 0B', 'Section 0C', 'Section 0D', 'Section 0F', 'Section 0G', 'Section 0H', 'Section 0J', 'Section 0K', 'Section 0L', 'Section 0M', 'Section 0N', 'Section 0P', 'Section 0Q', 'Section 0R', 'Section 0S', 'Section 0T', 'Section 0U', 'Section 0V', 'Section 0W', 'Section 0X', 'Section 0Y']\n",
      "['Section 10']\n",
      "['Section 5A']\n",
      "['Section 8C', 'Section 8E']\n"
     ]
    }
   ],
   "source": [
    "# sections_2 = set()\n",
    "level_2_0 = []\n",
    "\n",
    "for a in level_1:\n",
    "    i=-1\n",
    "    sections_2 = set()\n",
    "    level_2 = []\n",
    "    for b in a:\n",
    "        section_1 = b[0]\n",
    "        section_2 = b[1]\n",
    "        if section_2 not in sections_2:\n",
    "            sections_2.add(section_2)\n",
    "            taxonomy.add_node(f\"Section {section_1}\", f\"Section {section_1 + section_2}\")\n",
    "            level_2.append([])\n",
    "            i = i + 1\n",
    "            # exec(\"list_\" + str(section) + \" = []\")\n",
    "            # print(section)\n",
    "        level_2[i].append(b)\n",
    "    level_2_0.append(level_2)\n",
    "    # print(level_2)\n",
    "\n",
    "for n in sections_1:\n",
    "    print(taxonomy.get_children(f\"Section {n}\"))"
   ]
  },
  {
   "cell_type": "code",
   "execution_count": 69,
   "metadata": {},
   "outputs": [
    {
     "data": {
      "text/plain": [
       "['Section 8', 'origin']"
      ]
     },
     "execution_count": 69,
     "metadata": {},
     "output_type": "execute_result"
    }
   ],
   "source": [
    "# level_2_0\n",
    "get_ancestors('Section 8E')"
   ]
  },
  {
   "cell_type": "code",
   "execution_count": 195,
   "metadata": {},
   "outputs": [
    {
     "name": "stdout",
     "output_type": "stream",
     "text": [
      "[]\n",
      "[]\n",
      "[]\n",
      "[]\n",
      "[]\n",
      "[]\n",
      "[]\n",
      "[]\n",
      "[]\n",
      "[]\n"
     ]
    }
   ],
   "source": [
    "\n",
    "for a in level_2:\n",
    "    i=-1\n",
    "    sections_3 = set()\n",
    "    level_3 = []\n",
    "    for b in a:\n",
    "        section_1 = b[0]\n",
    "        section_2 = b[1]\n",
    "        section_3 = b[2]\n",
    "        if section_3 not in sections_3:\n",
    "            sections_3.add(section_3)\n",
    "            taxonomy.add_node(f\"Section {section_1 + section_2}\", f\"Section {section_1 + section_2 + section_3}\")\n",
    "            level_3.append([])\n",
    "            i = i + 1\n",
    "            # exec(\"list_\" + str(section) + \" = []\")\n",
    "            # print(section)\n",
    "        level_3[i].append(b)\n",
    "    # print(level_2)\n",
    "\n",
    "    print(taxonomy.get_children(f\"Section 00\"))"
   ]
  }
 ],
 "metadata": {
  "kernelspec": {
   "display_name": ".venv",
   "language": "python",
   "name": "python3"
  },
  "language_info": {
   "codemirror_mode": {
    "name": "ipython",
    "version": 3
   },
   "file_extension": ".py",
   "mimetype": "text/x-python",
   "name": "python",
   "nbconvert_exporter": "python",
   "pygments_lexer": "ipython3",
   "version": "3.10.11"
  },
  "orig_nbformat": 4
 },
 "nbformat": 4,
 "nbformat_minor": 2
}

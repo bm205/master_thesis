{
 "cells": [
  {
   "cell_type": "code",
   "execution_count": 20,
   "metadata": {},
   "outputs": [
    {
     "name": "stdout",
     "output_type": "stream",
     "text": [
      "[[0.37454012 0.95071431]\n",
      " [0.73199394 0.59865848]\n",
      " [0.15601864 0.15599452]\n",
      " [0.05808361 0.86617615]\n",
      " [0.60111501 0.70807258]\n",
      " [0.02058449 0.96990985]\n",
      " [0.83244264 0.21233911]\n",
      " [0.18182497 0.18340451]\n",
      " [0.30424224 0.52475643]\n",
      " [0.43194502 0.29122914]\n",
      " [0.61185289 0.13949386]\n",
      " [0.29214465 0.36636184]\n",
      " [0.45606998 0.78517596]\n",
      " [0.19967378 0.51423444]\n",
      " [0.59241457 0.04645041]\n",
      " [0.60754485 0.17052412]\n",
      " [0.06505159 0.94888554]\n",
      " [0.96563203 0.80839735]\n",
      " [0.30461377 0.09767211]\n",
      " [0.68423303 0.44015249]\n",
      " [0.12203823 0.49517691]\n",
      " [0.03438852 0.9093204 ]\n",
      " [0.25877998 0.66252228]\n",
      " [0.31171108 0.52006802]\n",
      " [0.54671028 0.18485446]\n",
      " [0.96958463 0.77513282]\n",
      " [0.93949894 0.89482735]\n",
      " [0.59789998 0.92187424]\n",
      " [0.0884925  0.19598286]\n",
      " [0.04522729 0.32533033]\n",
      " [0.38867729 0.27134903]\n",
      " [0.82873751 0.35675333]\n",
      " [0.28093451 0.54269608]\n",
      " [0.14092422 0.80219698]\n",
      " [0.07455064 0.98688694]\n",
      " [0.77224477 0.19871568]\n",
      " [0.00552212 0.81546143]\n",
      " [0.70685734 0.72900717]\n",
      " [0.77127035 0.07404465]\n",
      " [0.35846573 0.11586906]\n",
      " [0.86310343 0.62329813]\n",
      " [0.33089802 0.06355835]\n",
      " [0.31098232 0.32518332]\n",
      " [0.72960618 0.63755747]\n",
      " [0.88721274 0.47221493]\n",
      " [0.11959425 0.71324479]\n",
      " [0.76078505 0.5612772 ]\n",
      " [0.77096718 0.4937956 ]\n",
      " [0.52273283 0.42754102]\n",
      " [0.02541913 0.10789143]\n",
      " [0.03142919 0.63641041]\n",
      " [0.31435598 0.50857069]\n",
      " [0.90756647 0.24929223]\n",
      " [0.41038292 0.75555114]\n",
      " [0.22879817 0.07697991]\n",
      " [0.28975145 0.16122129]\n",
      " [0.92969765 0.80812038]\n",
      " [0.63340376 0.87146059]\n",
      " [0.80367208 0.18657006]\n",
      " [0.892559   0.53934224]\n",
      " [0.80744016 0.8960913 ]\n",
      " [0.31800347 0.11005192]\n",
      " [0.22793516 0.42710779]\n",
      " [0.81801477 0.86073058]\n",
      " [0.00695213 0.5107473 ]\n",
      " [0.417411   0.22210781]\n",
      " [0.11986537 0.33761517]\n",
      " [0.9429097  0.32320293]\n",
      " [0.51879062 0.70301896]\n",
      " [0.3636296  0.97178208]\n",
      " [0.96244729 0.2517823 ]\n",
      " [0.49724851 0.30087831]\n",
      " [0.28484049 0.03688695]\n",
      " [0.60956433 0.50267902]\n",
      " [0.05147875 0.27864646]\n",
      " [0.90826589 0.23956189]\n",
      " [0.14489487 0.48945276]\n",
      " [0.98565045 0.24205527]\n",
      " [0.67213555 0.76161962]\n",
      " [0.23763754 0.72821635]\n",
      " [0.36778313 0.63230583]\n",
      " [0.63352971 0.53577468]\n",
      " [0.09028977 0.8353025 ]\n",
      " [0.32078006 0.18651851]\n",
      " [0.04077514 0.59089294]\n",
      " [0.67756436 0.01658783]\n",
      " [0.51209306 0.22649578]\n",
      " [0.64517279 0.17436643]\n",
      " [0.69093774 0.38673535]\n",
      " [0.93672999 0.13752094]\n",
      " [0.34106635 0.11347352]\n",
      " [0.92469362 0.87733935]\n",
      " [0.25794163 0.65998405]\n",
      " [0.8172222  0.55520081]\n",
      " [0.52965058 0.24185229]\n",
      " [0.09310277 0.89721576]\n",
      " [0.90041806 0.63310146]\n",
      " [0.33902979 0.34920957]\n",
      " [0.72595568 0.89711026]\n",
      " [0.88708642 0.77987555]]\n",
      "100\n",
      "[1 1 0 0 1 0 1 0 0 0 0 0 1 0 0 0 1 1 0 1 0 0 0 0 0 1 1 1 0 0 0 1 0 0 1 0 0\n",
      " 1 0 0 1 0 0 1 1 0 1 1 0 0 0 0 1 1 0 0 1 1 0 1 1 0 0 1 0 0 0 1 1 1 1 0 0 1\n",
      " 0 1 0 1 1 0 1 1 0 0 0 0 0 0 1 1 0 1 0 1 0 0 1 0 1 1]\n",
      "100\n"
     ]
    }
   ],
   "source": [
    "import numpy as np\n",
    "from sklearn.neighbors import KNeighborsClassifier\n",
    "\n",
    "# Generate a random dataset with 100 samples and 2 features\n",
    "np.random.seed(42)\n",
    "X = np.random.rand(100, 2)\n",
    "y = (X[:, 0] + X[:, 1] > 1).astype(int)  # Create a binary classification problem\n",
    "\n",
    "print(X)\n",
    "print(len(X))\n",
    "print(y)\n",
    "print(len(y))"
   ]
  },
  {
   "cell_type": "code",
   "execution_count": 14,
   "metadata": {},
   "outputs": [
    {
     "name": "stdout",
     "output_type": "stream",
     "text": [
      "100\n"
     ]
    }
   ],
   "source": [
    "# Compute the distance matrix (Euclidean distance)\n",
    "from scipy.spatial.distance import cdist\n",
    "X_dist_matrix = cdist(X, X, metric='euclidean')\n",
    "print(len(X_dist_matrix))"
   ]
  },
  {
   "cell_type": "code",
   "execution_count": 8,
   "metadata": {},
   "outputs": [
    {
     "data": {
      "text/html": [
       "<style>#sk-container-id-2 {color: black;}#sk-container-id-2 pre{padding: 0;}#sk-container-id-2 div.sk-toggleable {background-color: white;}#sk-container-id-2 label.sk-toggleable__label {cursor: pointer;display: block;width: 100%;margin-bottom: 0;padding: 0.3em;box-sizing: border-box;text-align: center;}#sk-container-id-2 label.sk-toggleable__label-arrow:before {content: \"▸\";float: left;margin-right: 0.25em;color: #696969;}#sk-container-id-2 label.sk-toggleable__label-arrow:hover:before {color: black;}#sk-container-id-2 div.sk-estimator:hover label.sk-toggleable__label-arrow:before {color: black;}#sk-container-id-2 div.sk-toggleable__content {max-height: 0;max-width: 0;overflow: hidden;text-align: left;background-color: #f0f8ff;}#sk-container-id-2 div.sk-toggleable__content pre {margin: 0.2em;color: black;border-radius: 0.25em;background-color: #f0f8ff;}#sk-container-id-2 input.sk-toggleable__control:checked~div.sk-toggleable__content {max-height: 200px;max-width: 100%;overflow: auto;}#sk-container-id-2 input.sk-toggleable__control:checked~label.sk-toggleable__label-arrow:before {content: \"▾\";}#sk-container-id-2 div.sk-estimator input.sk-toggleable__control:checked~label.sk-toggleable__label {background-color: #d4ebff;}#sk-container-id-2 div.sk-label input.sk-toggleable__control:checked~label.sk-toggleable__label {background-color: #d4ebff;}#sk-container-id-2 input.sk-hidden--visually {border: 0;clip: rect(1px 1px 1px 1px);clip: rect(1px, 1px, 1px, 1px);height: 1px;margin: -1px;overflow: hidden;padding: 0;position: absolute;width: 1px;}#sk-container-id-2 div.sk-estimator {font-family: monospace;background-color: #f0f8ff;border: 1px dotted black;border-radius: 0.25em;box-sizing: border-box;margin-bottom: 0.5em;}#sk-container-id-2 div.sk-estimator:hover {background-color: #d4ebff;}#sk-container-id-2 div.sk-parallel-item::after {content: \"\";width: 100%;border-bottom: 1px solid gray;flex-grow: 1;}#sk-container-id-2 div.sk-label:hover label.sk-toggleable__label {background-color: #d4ebff;}#sk-container-id-2 div.sk-serial::before {content: \"\";position: absolute;border-left: 1px solid gray;box-sizing: border-box;top: 0;bottom: 0;left: 50%;z-index: 0;}#sk-container-id-2 div.sk-serial {display: flex;flex-direction: column;align-items: center;background-color: white;padding-right: 0.2em;padding-left: 0.2em;position: relative;}#sk-container-id-2 div.sk-item {position: relative;z-index: 1;}#sk-container-id-2 div.sk-parallel {display: flex;align-items: stretch;justify-content: center;background-color: white;position: relative;}#sk-container-id-2 div.sk-item::before, #sk-container-id-2 div.sk-parallel-item::before {content: \"\";position: absolute;border-left: 1px solid gray;box-sizing: border-box;top: 0;bottom: 0;left: 50%;z-index: -1;}#sk-container-id-2 div.sk-parallel-item {display: flex;flex-direction: column;z-index: 1;position: relative;background-color: white;}#sk-container-id-2 div.sk-parallel-item:first-child::after {align-self: flex-end;width: 50%;}#sk-container-id-2 div.sk-parallel-item:last-child::after {align-self: flex-start;width: 50%;}#sk-container-id-2 div.sk-parallel-item:only-child::after {width: 0;}#sk-container-id-2 div.sk-dashed-wrapped {border: 1px dashed gray;margin: 0 0.4em 0.5em 0.4em;box-sizing: border-box;padding-bottom: 0.4em;background-color: white;}#sk-container-id-2 div.sk-label label {font-family: monospace;font-weight: bold;display: inline-block;line-height: 1.2em;}#sk-container-id-2 div.sk-label-container {text-align: center;}#sk-container-id-2 div.sk-container {/* jupyter's `normalize.less` sets `[hidden] { display: none; }` but bootstrap.min.css set `[hidden] { display: none !important; }` so we also need the `!important` here to be able to override the default hidden behavior on the sphinx rendered scikit-learn.org. See: https://github.com/scikit-learn/scikit-learn/issues/21755 */display: inline-block !important;position: relative;}#sk-container-id-2 div.sk-text-repr-fallback {display: none;}</style><div id=\"sk-container-id-2\" class=\"sk-top-container\"><div class=\"sk-text-repr-fallback\"><pre>KNeighborsClassifier(metric=&#x27;precomputed&#x27;, n_neighbors=3)</pre><b>In a Jupyter environment, please rerun this cell to show the HTML representation or trust the notebook. <br />On GitHub, the HTML representation is unable to render, please try loading this page with nbviewer.org.</b></div><div class=\"sk-container\" hidden><div class=\"sk-item\"><div class=\"sk-estimator sk-toggleable\"><input class=\"sk-toggleable__control sk-hidden--visually\" id=\"sk-estimator-id-2\" type=\"checkbox\" checked><label for=\"sk-estimator-id-2\" class=\"sk-toggleable__label sk-toggleable__label-arrow\">KNeighborsClassifier</label><div class=\"sk-toggleable__content\"><pre>KNeighborsClassifier(metric=&#x27;precomputed&#x27;, n_neighbors=3)</pre></div></div></div></div></div>"
      ],
      "text/plain": [
       "KNeighborsClassifier(metric='precomputed', n_neighbors=3)"
      ]
     },
     "execution_count": 8,
     "metadata": {},
     "output_type": "execute_result"
    }
   ],
   "source": [
    "# Instantiate and fit the KNN classifier with the precomputed distance matrix\n",
    "k = 3\n",
    "knn_classifier = KNeighborsClassifier(n_neighbors=k, metric='precomputed')\n",
    "knn_classifier.fit(X_dist_matrix, y)"
   ]
  },
  {
   "cell_type": "code",
   "execution_count": 22,
   "metadata": {},
   "outputs": [
    {
     "name": "stdout",
     "output_type": "stream",
     "text": [
      "[[0.86289517 0.40441737 0.64548313 0.99711112 0.54561248 1.09555909\n",
      "  0.03470992 0.61839775 0.59265715 0.37919286 0.19763685 0.53440932\n",
      "  0.67876267 0.6775949  0.25820377 0.19469928 1.04927533 0.63054049\n",
      "  0.50584436 0.26659935 0.73943327 1.04369362 0.71193116 0.5838404\n",
      "  0.25374213 0.5996138  0.70869246 0.74963113 0.71151884 0.76510753\n",
      "  0.41746504 0.15936577 0.62198842 0.89276093 1.0702653  0.02778493\n",
      "  1.00498153 0.53714443 0.12919034 0.44947806 0.42797587 0.48854169\n",
      "  0.50478625 0.44318374 0.28584441 0.85227472 0.36339927 0.29522662\n",
      "  0.35868092 0.78003815 0.88382982 0.57538334 0.11832274 0.67855621\n",
      "  0.58429913 0.51172001 0.6217973  0.69181907 0.01392291 0.351739\n",
      "  0.69613106 0.49031756 0.61549665 0.66097612 0.85175631 0.38322721\n",
      "  0.69391718 0.18868531 0.57628707 0.88660403 0.17050082 0.31911581\n",
      "  0.54036579 0.3576036  0.75264157 0.11526771 0.71620223 0.19035424\n",
      "  0.57599124 0.77153357 0.61130987 0.37477593 0.95252185 0.47940953\n",
      "  0.8539436  0.22052326 0.28912356 0.15693484 0.2162514  0.15032871\n",
      "  0.46701919 0.68872135 0.71092377 0.35561808 0.27356978 0.99288142\n",
      "  0.44459044 0.48451732 0.70103158 0.58637846]\n",
      " [0.09015637 0.52671195 0.7578092  0.24426951 0.35708036 0.28802849\n",
      "  0.86969688 0.72627435 0.37526755 0.62290565 0.82196217 0.53369597\n",
      "  0.19375861 0.39859807 0.90224896 0.79165579 0.23998031 0.67190554\n",
      "  0.80234115 0.59924515 0.44221276 0.26577496 0.24102854 0.38011243\n",
      "  0.75650454 0.68112802 0.63951986 0.29870199 0.73510241 0.62861305\n",
      "  0.63487456 0.75807671 0.35781222 0.18673653 0.24161281 0.84546722\n",
      "  0.30637231 0.44132918 0.95094583 0.78630756 0.62741485 0.83701214\n",
      "  0.57492158 0.50342581 0.72651144 0.25966083 0.5718881  0.6219422\n",
      "  0.52232883 0.83834996 0.37631071 0.39169248 0.89025705 0.18179621\n",
      "  0.82609429 0.73884979 0.63636546 0.33462302 0.87330856 0.69368594\n",
      "  0.50745521 0.7901532  0.47835174 0.51950109 0.48723169 0.68798486\n",
      "  0.59052958 0.86372898 0.29439916 0.0959239  0.92683473 0.63075651\n",
      "  0.86324617 0.50368049 0.66921075 0.89786741 0.43886973 0.95026723\n",
      "  0.39703148 0.18275311 0.27614257 0.4938645  0.21946332 0.71378403\n",
      "  0.40341629 0.96071427 0.70611005 0.80354734 0.64519216 0.99337777\n",
      "  0.78759783 0.62510449 0.24367307 0.62161506 0.6970637  0.20691597\n",
      "  0.65706672 0.55217155 0.42596548 0.59924983]]\n",
      "Predictions for new data points: [0 1]\n"
     ]
    }
   ],
   "source": [
    "# Make predictions for new data points\n",
    "new_data_points = np.array([[0.8, 0.2], [0.3, 0.9]])\n",
    "new_dist_matrix = cdist(new_data_points, X, metric='euclidean')\n",
    "predictions = knn_classifier.predict(new_dist_matrix)\n",
    "\n",
    "# print(new_data_points)\n",
    "print(new_dist_matrix)\n",
    "# print(len(new_dist_matrix))\n",
    "\n",
    "print(\"Predictions for new data points:\", predictions)"
   ]
  }
 ],
 "metadata": {
  "kernelspec": {
   "display_name": ".venv",
   "language": "python",
   "name": "python3"
  },
  "language_info": {
   "codemirror_mode": {
    "name": "ipython",
    "version": 3
   },
   "file_extension": ".py",
   "mimetype": "text/x-python",
   "name": "python",
   "nbconvert_exporter": "python",
   "pygments_lexer": "ipython3",
   "version": "3.10.11"
  },
  "orig_nbformat": 4
 },
 "nbformat": 4,
 "nbformat_minor": 2
}
